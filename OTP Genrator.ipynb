{
 "cells": [
  {
   "cell_type": "code",
   "execution_count": 15,
   "id": "8ad41a4e",
   "metadata": {},
   "outputs": [
    {
     "name": "stdout",
     "output_type": "stream",
     "text": [
      "OTP of 5 digits:  30726\n"
     ]
    }
   ],
   "source": [
    "# import library\n",
    "import math, random\n",
    "import numpy as np\n",
    "# function to generate OTP\n",
    "def genOTP():\n",
    "\n",
    "\t# Declare a digits variable\n",
    "\t\n",
    "\tdigits = \"7543289106\"\n",
    "\tOTP = \" \"\n",
    "\n",
    "# length of password can be changed\n",
    "# by changing value in range\n",
    "\tfor i in range(5) :\n",
    "\t\tOTP += digits[math.floor(random.random() * 10)]\n",
    "\n",
    "\treturn OTP\n",
    "\n",
    "# Driver code\n",
    "if __name__ == \"__main__\" :\n",
    "\t\n",
    "\tprint(\"OTP of 5 digits:\", genOTP())\n"
   ]
  },
  {
   "cell_type": "code",
   "execution_count": null,
   "id": "1db44868",
   "metadata": {},
   "outputs": [],
   "source": []
  }
 ],
 "metadata": {
  "kernelspec": {
   "display_name": "Python 3 (ipykernel)",
   "language": "python",
   "name": "python3"
  },
  "language_info": {
   "codemirror_mode": {
    "name": "ipython",
    "version": 3
   },
   "file_extension": ".py",
   "mimetype": "text/x-python",
   "name": "python",
   "nbconvert_exporter": "python",
   "pygments_lexer": "ipython3",
   "version": "3.9.13"
  }
 },
 "nbformat": 4,
 "nbformat_minor": 5
}

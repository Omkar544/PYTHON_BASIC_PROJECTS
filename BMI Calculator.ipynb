{
 "cells": [
  {
   "cell_type": "code",
   "execution_count": 14,
   "id": "279b2db6",
   "metadata": {},
   "outputs": [
    {
     "name": "stdout",
     "output_type": "stream",
     "text": [
      "Enter your height in centimeters: 105\n",
      "Enter your Weight in Kg: 20\n",
      "Your Body Mass Index is:  18.140589569160998\n",
      "You are underweight\n"
     ]
    }
   ],
   "source": [
    "Height=float(input(\"Enter your height in centimeters: \"))\n",
    "Weight=float(input(\"Enter your Weight in Kg: \"))\n",
    "Height = Height/100\n",
    "BMI=Weight/(Height*Height)\n",
    "print(\"Your Body Mass Index is: \",BMI)\n",
    "if(BMI>0):\n",
    "\tif(BMI<=16):\n",
    "\t\tprint(\"You are severely underweight\")\n",
    "\telif(BMI<=18.5):\n",
    "\t\tprint(\"You are underweight\")\n",
    "\telif(BMI<=25):\n",
    "\t\tprint(\"You are Healthy\")\n",
    "\telif(BMI<=30):\n",
    "\t\tprint(\"You are overweight\")\n",
    "\telse: print(\"You are severely overweight\")\n",
    "else:(\"Enter valid details\")"
   ]
  },
  {
   "cell_type": "code",
   "execution_count": null,
   "id": "0d8fe46b",
   "metadata": {},
   "outputs": [],
   "source": []
  },
  {
   "cell_type": "code",
   "execution_count": null,
   "id": "225f867c",
   "metadata": {},
   "outputs": [],
   "source": []
  }
 ],
 "metadata": {
  "kernelspec": {
   "display_name": "Python 3 (ipykernel)",
   "language": "python",
   "name": "python3"
  },
  "language_info": {
   "codemirror_mode": {
    "name": "ipython",
    "version": 3
   },
   "file_extension": ".py",
   "mimetype": "text/x-python",
   "name": "python",
   "nbconvert_exporter": "python",
   "pygments_lexer": "ipython3",
   "version": "3.9.13"
  }
 },
 "nbformat": 4,
 "nbformat_minor": 5
}
